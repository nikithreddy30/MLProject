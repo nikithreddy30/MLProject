{
 "cells": [
  {
   "cell_type": "code",
   "execution_count": 38,
   "id": "elementary-island",
   "metadata": {},
   "outputs": [],
   "source": [
    "# importing required libraries\n",
    "import pandas as pd\n",
    "import numpy as np\n",
    "import os\n",
    "\n",
    "import matplotlib.pyplot as plt\n",
    "import seaborn as sns\n",
    "from IPython.display import display\n",
    "\n",
    "from bs4 import BeautifulSoup\n",
    "from nltk.corpus import stopwords\n",
    "import re\n",
    "import string\n",
    "import nltk\n",
    "\n",
    "from operator import index\n",
    "\n",
    "import gensim\n",
    "import gensim.corpora as corpora\n",
    "import matplotlib.colors as mcolors\n",
    "import plotly.express as px\n",
    "import plotly.graph_objects as go\n",
    "from wordcloud import WordCloud\n",
    "\n",
    "from collections import Counter\n",
    "from sklearn.linear_model import LogisticRegression\n",
    "from sklearn.ensemble import AdaBoostClassifier, RandomForestClassifier\n",
    "from sklearn.neighbors import KNeighborsClassifier\n",
    "\n",
    "from sklearn.model_selection import train_test_split\n",
    "from sklearn.metrics import classification_report, accuracy_score, confusion_matrix"
   ]
  },
  {
   "cell_type": "code",
   "execution_count": 2,
   "id": "judicial-vatican",
   "metadata": {},
   "outputs": [],
   "source": [
    "# ignore warning\n",
    "import warnings\n",
    "warnings.filterwarnings('ignore')"
   ]
  },
  {
   "cell_type": "code",
   "execution_count": 3,
   "id": "prerequisite-temple",
   "metadata": {},
   "outputs": [],
   "source": [
    "#initialization\n",
    "stop = stopwords.words('english')\n",
    "symbols = list(string.punctuation)"
   ]
  },
  {
   "cell_type": "code",
   "execution_count": 4,
   "id": "paperback-static",
   "metadata": {},
   "outputs": [],
   "source": [
    "# loading datasets\n",
    "fakeDataset = pd.read_csv(\"./dataset/Fake.csv\")\n",
    "trueDataset = pd.read_csv(\"./dataset/True.csv\")"
   ]
  },
  {
   "cell_type": "code",
   "execution_count": 5,
   "id": "formed-chance",
   "metadata": {},
   "outputs": [
    {
     "data": {
      "text/html": [
       "<div>\n",
       "<style scoped>\n",
       "    .dataframe tbody tr th:only-of-type {\n",
       "        vertical-align: middle;\n",
       "    }\n",
       "\n",
       "    .dataframe tbody tr th {\n",
       "        vertical-align: top;\n",
       "    }\n",
       "\n",
       "    .dataframe thead th {\n",
       "        text-align: right;\n",
       "    }\n",
       "</style>\n",
       "<table border=\"1\" class=\"dataframe\">\n",
       "  <thead>\n",
       "    <tr style=\"text-align: right;\">\n",
       "      <th></th>\n",
       "      <th>title</th>\n",
       "      <th>text</th>\n",
       "      <th>subject</th>\n",
       "      <th>date</th>\n",
       "    </tr>\n",
       "  </thead>\n",
       "  <tbody>\n",
       "    <tr>\n",
       "      <th>0</th>\n",
       "      <td>Donald Trump Sends Out Embarrassing New Year’...</td>\n",
       "      <td>Donald Trump just couldn t wish all Americans ...</td>\n",
       "      <td>News</td>\n",
       "      <td>December 31, 2017</td>\n",
       "    </tr>\n",
       "    <tr>\n",
       "      <th>1</th>\n",
       "      <td>Drunk Bragging Trump Staffer Started Russian ...</td>\n",
       "      <td>House Intelligence Committee Chairman Devin Nu...</td>\n",
       "      <td>News</td>\n",
       "      <td>December 31, 2017</td>\n",
       "    </tr>\n",
       "    <tr>\n",
       "      <th>2</th>\n",
       "      <td>Sheriff David Clarke Becomes An Internet Joke...</td>\n",
       "      <td>On Friday, it was revealed that former Milwauk...</td>\n",
       "      <td>News</td>\n",
       "      <td>December 30, 2017</td>\n",
       "    </tr>\n",
       "    <tr>\n",
       "      <th>3</th>\n",
       "      <td>Trump Is So Obsessed He Even Has Obama’s Name...</td>\n",
       "      <td>On Christmas day, Donald Trump announced that ...</td>\n",
       "      <td>News</td>\n",
       "      <td>December 29, 2017</td>\n",
       "    </tr>\n",
       "    <tr>\n",
       "      <th>4</th>\n",
       "      <td>Pope Francis Just Called Out Donald Trump Dur...</td>\n",
       "      <td>Pope Francis used his annual Christmas Day mes...</td>\n",
       "      <td>News</td>\n",
       "      <td>December 25, 2017</td>\n",
       "    </tr>\n",
       "  </tbody>\n",
       "</table>\n",
       "</div>"
      ],
      "text/plain": [
       "                                               title  \\\n",
       "0   Donald Trump Sends Out Embarrassing New Year’...   \n",
       "1   Drunk Bragging Trump Staffer Started Russian ...   \n",
       "2   Sheriff David Clarke Becomes An Internet Joke...   \n",
       "3   Trump Is So Obsessed He Even Has Obama’s Name...   \n",
       "4   Pope Francis Just Called Out Donald Trump Dur...   \n",
       "\n",
       "                                                text subject  \\\n",
       "0  Donald Trump just couldn t wish all Americans ...    News   \n",
       "1  House Intelligence Committee Chairman Devin Nu...    News   \n",
       "2  On Friday, it was revealed that former Milwauk...    News   \n",
       "3  On Christmas day, Donald Trump announced that ...    News   \n",
       "4  Pope Francis used his annual Christmas Day mes...    News   \n",
       "\n",
       "                date  \n",
       "0  December 31, 2017  \n",
       "1  December 31, 2017  \n",
       "2  December 30, 2017  \n",
       "3  December 29, 2017  \n",
       "4  December 25, 2017  "
      ]
     },
     "metadata": {},
     "output_type": "display_data"
    }
   ],
   "source": [
    "# top-5 rows\n",
    "display(fakeDataset.head())"
   ]
  },
  {
   "cell_type": "code",
   "execution_count": 6,
   "id": "urban-welding",
   "metadata": {},
   "outputs": [
    {
     "data": {
      "text/html": [
       "<div>\n",
       "<style scoped>\n",
       "    .dataframe tbody tr th:only-of-type {\n",
       "        vertical-align: middle;\n",
       "    }\n",
       "\n",
       "    .dataframe tbody tr th {\n",
       "        vertical-align: top;\n",
       "    }\n",
       "\n",
       "    .dataframe thead th {\n",
       "        text-align: right;\n",
       "    }\n",
       "</style>\n",
       "<table border=\"1\" class=\"dataframe\">\n",
       "  <thead>\n",
       "    <tr style=\"text-align: right;\">\n",
       "      <th></th>\n",
       "      <th>title</th>\n",
       "      <th>text</th>\n",
       "      <th>subject</th>\n",
       "      <th>date</th>\n",
       "    </tr>\n",
       "  </thead>\n",
       "  <tbody>\n",
       "    <tr>\n",
       "      <th>0</th>\n",
       "      <td>As U.S. budget fight looms, Republicans flip t...</td>\n",
       "      <td>WASHINGTON (Reuters) - The head of a conservat...</td>\n",
       "      <td>politicsNews</td>\n",
       "      <td>December 31, 2017</td>\n",
       "    </tr>\n",
       "    <tr>\n",
       "      <th>1</th>\n",
       "      <td>U.S. military to accept transgender recruits o...</td>\n",
       "      <td>WASHINGTON (Reuters) - Transgender people will...</td>\n",
       "      <td>politicsNews</td>\n",
       "      <td>December 29, 2017</td>\n",
       "    </tr>\n",
       "    <tr>\n",
       "      <th>2</th>\n",
       "      <td>Senior U.S. Republican senator: 'Let Mr. Muell...</td>\n",
       "      <td>WASHINGTON (Reuters) - The special counsel inv...</td>\n",
       "      <td>politicsNews</td>\n",
       "      <td>December 31, 2017</td>\n",
       "    </tr>\n",
       "    <tr>\n",
       "      <th>3</th>\n",
       "      <td>FBI Russia probe helped by Australian diplomat...</td>\n",
       "      <td>WASHINGTON (Reuters) - Trump campaign adviser ...</td>\n",
       "      <td>politicsNews</td>\n",
       "      <td>December 30, 2017</td>\n",
       "    </tr>\n",
       "    <tr>\n",
       "      <th>4</th>\n",
       "      <td>Trump wants Postal Service to charge 'much mor...</td>\n",
       "      <td>SEATTLE/WASHINGTON (Reuters) - President Donal...</td>\n",
       "      <td>politicsNews</td>\n",
       "      <td>December 29, 2017</td>\n",
       "    </tr>\n",
       "  </tbody>\n",
       "</table>\n",
       "</div>"
      ],
      "text/plain": [
       "                                               title  \\\n",
       "0  As U.S. budget fight looms, Republicans flip t...   \n",
       "1  U.S. military to accept transgender recruits o...   \n",
       "2  Senior U.S. Republican senator: 'Let Mr. Muell...   \n",
       "3  FBI Russia probe helped by Australian diplomat...   \n",
       "4  Trump wants Postal Service to charge 'much mor...   \n",
       "\n",
       "                                                text       subject  \\\n",
       "0  WASHINGTON (Reuters) - The head of a conservat...  politicsNews   \n",
       "1  WASHINGTON (Reuters) - Transgender people will...  politicsNews   \n",
       "2  WASHINGTON (Reuters) - The special counsel inv...  politicsNews   \n",
       "3  WASHINGTON (Reuters) - Trump campaign adviser ...  politicsNews   \n",
       "4  SEATTLE/WASHINGTON (Reuters) - President Donal...  politicsNews   \n",
       "\n",
       "                 date  \n",
       "0  December 31, 2017   \n",
       "1  December 29, 2017   \n",
       "2  December 31, 2017   \n",
       "3  December 30, 2017   \n",
       "4  December 29, 2017   "
      ]
     },
     "metadata": {},
     "output_type": "display_data"
    }
   ],
   "source": [
    "display(trueDataset.head())"
   ]
  },
  {
   "cell_type": "code",
   "execution_count": 7,
   "id": "entire-casting",
   "metadata": {},
   "outputs": [],
   "source": [
    "# adding label column\n",
    "fakeDataset[\"label\"] = \"1\"\n",
    "trueDataset[\"label\"] = \"0\""
   ]
  },
  {
   "cell_type": "code",
   "execution_count": 8,
   "id": "weird-season",
   "metadata": {},
   "outputs": [],
   "source": [
    "# merging datasets\n",
    "data = [fakeDataset, trueDataset]\n",
    "dataset = pd.concat(data, ignore_index=True, sort=False)\n",
    "\n",
    "# # Use pandas.concat() method to ignore_index\n",
    "# df2 = pd.concat([df, df1], ignore_index=True, sort=False)"
   ]
  },
  {
   "cell_type": "code",
   "execution_count": 9,
   "id": "worse-perception",
   "metadata": {},
   "outputs": [
    {
     "name": "stdout",
     "output_type": "stream",
     "text": [
      "Total number of rows in Fake Dataset (23481, 5) and True Dataset (21417, 5) and combined dataset (44898, 5)\n"
     ]
    }
   ],
   "source": [
    "# dimensions\n",
    "print(\n",
    "    \"Total number of rows in Fake Dataset {} and True Dataset {} and combined dataset {}\"\n",
    "    .format(fakeDataset.shape, trueDataset.shape, dataset.shape))"
   ]
  },
  {
   "cell_type": "code",
   "execution_count": 10,
   "id": "under-ethernet",
   "metadata": {},
   "outputs": [
    {
     "data": {
      "text/plain": [
       "Index(['title', 'text', 'subject', 'date', 'label'], dtype='object')"
      ]
     },
     "execution_count": 10,
     "metadata": {},
     "output_type": "execute_result"
    }
   ],
   "source": [
    "dataset.columns"
   ]
  },
  {
   "cell_type": "code",
   "execution_count": 11,
   "id": "dimensional-wyoming",
   "metadata": {},
   "outputs": [],
   "source": [
    "# dropping unneccessary columns\n",
    "columns = ['title', 'subject', 'date']\n",
    "dataset.drop(columns=columns, inplace=True)"
   ]
  },
  {
   "cell_type": "code",
   "execution_count": 12,
   "id": "beneficial-invention",
   "metadata": {
    "scrolled": true
   },
   "outputs": [
    {
     "data": {
      "text/html": [
       "<div>\n",
       "<style scoped>\n",
       "    .dataframe tbody tr th:only-of-type {\n",
       "        vertical-align: middle;\n",
       "    }\n",
       "\n",
       "    .dataframe tbody tr th {\n",
       "        vertical-align: top;\n",
       "    }\n",
       "\n",
       "    .dataframe thead th {\n",
       "        text-align: right;\n",
       "    }\n",
       "</style>\n",
       "<table border=\"1\" class=\"dataframe\">\n",
       "  <thead>\n",
       "    <tr style=\"text-align: right;\">\n",
       "      <th></th>\n",
       "      <th>text</th>\n",
       "      <th>label</th>\n",
       "    </tr>\n",
       "  </thead>\n",
       "  <tbody>\n",
       "    <tr>\n",
       "      <th>0</th>\n",
       "      <td>Donald Trump just couldn t wish all Americans ...</td>\n",
       "      <td>1</td>\n",
       "    </tr>\n",
       "    <tr>\n",
       "      <th>1</th>\n",
       "      <td>House Intelligence Committee Chairman Devin Nu...</td>\n",
       "      <td>1</td>\n",
       "    </tr>\n",
       "    <tr>\n",
       "      <th>2</th>\n",
       "      <td>On Friday, it was revealed that former Milwauk...</td>\n",
       "      <td>1</td>\n",
       "    </tr>\n",
       "    <tr>\n",
       "      <th>3</th>\n",
       "      <td>On Christmas day, Donald Trump announced that ...</td>\n",
       "      <td>1</td>\n",
       "    </tr>\n",
       "    <tr>\n",
       "      <th>4</th>\n",
       "      <td>Pope Francis used his annual Christmas Day mes...</td>\n",
       "      <td>1</td>\n",
       "    </tr>\n",
       "  </tbody>\n",
       "</table>\n",
       "</div>"
      ],
      "text/plain": [
       "                                                text label\n",
       "0  Donald Trump just couldn t wish all Americans ...     1\n",
       "1  House Intelligence Committee Chairman Devin Nu...     1\n",
       "2  On Friday, it was revealed that former Milwauk...     1\n",
       "3  On Christmas day, Donald Trump announced that ...     1\n",
       "4  Pope Francis used his annual Christmas Day mes...     1"
      ]
     },
     "metadata": {},
     "output_type": "display_data"
    }
   ],
   "source": [
    "# after dropping columns\n",
    "display(dataset.head())"
   ]
  },
  {
   "cell_type": "code",
   "execution_count": 13,
   "id": "southwest-energy",
   "metadata": {},
   "outputs": [
    {
     "data": {
      "text/plain": [
       "text     False\n",
       "label    False\n",
       "dtype: bool"
      ]
     },
     "metadata": {},
     "output_type": "display_data"
    }
   ],
   "source": [
    "# checking for NaN values\n",
    "display(dataset.isna().any())"
   ]
  },
  {
   "cell_type": "code",
   "execution_count": 14,
   "id": "destroyed-coaching",
   "metadata": {},
   "outputs": [
    {
     "data": {
      "text/plain": [
       "text     False\n",
       "label    False\n",
       "dtype: bool"
      ]
     },
     "metadata": {},
     "output_type": "display_data"
    }
   ],
   "source": [
    "# checking for null values\n",
    "display(dataset.isnull().any())"
   ]
  },
  {
   "cell_type": "code",
   "execution_count": 15,
   "id": "double-overall",
   "metadata": {},
   "outputs": [],
   "source": [
    "# Dataset preprocessing\n",
    "def cleaning(raw):\n",
    "    htmlFree = BeautifulSoup(raw, \"html.parser\")  # removing html tags\n",
    "    # removing numbers and others except small and capital alphabets\n",
    "    letters = re.sub(\"[^a-zA-Z ]\", \" \", htmlFree.get_text())\n",
    "    low = letters.lower()  # Converting everything to lower case\n",
    "    words = low.split()  # spiliting sentences into words\n",
    "    cleaned = [w for w in words if not w in stop]  # removing stopping words\n",
    "    return ' '.join(cleaned)"
   ]
  },
  {
   "cell_type": "code",
   "execution_count": 16,
   "id": "meaningful-spouse",
   "metadata": {},
   "outputs": [],
   "source": [
    "# cleaning the dataset and segregating input and output\n",
    "x = list(map(cleaning, dataset['text']))\n",
    "y = dataset['label']"
   ]
  },
  {
   "cell_type": "code",
   "execution_count": 17,
   "id": "talented-biodiversity",
   "metadata": {},
   "outputs": [],
   "source": [
    "# dataset visualisation\n",
    "def get_list_of_words(document):\n",
    "    Document = [a.split(\" \") for a in document]\n",
    "    return Document\n",
    "\n",
    "\n",
    "document = get_list_of_words(x[:1000])\n",
    "\n",
    "id2word = corpora.Dictionary(document)\n",
    "corpus = [id2word.doc2bow(text) for text in document]\n",
    "\n",
    "lda_model = gensim.models.ldamodel.LdaModel(corpus=corpus, id2word=id2word, num_topics=6, random_state=100,\n",
    "                                            update_every=3, chunksize=100, passes=50, alpha='auto',\n",
    "                                            per_word_topics=True)\n"
   ]
  },
  {
   "cell_type": "code",
   "execution_count": 18,
   "id": "brazilian-summary",
   "metadata": {},
   "outputs": [],
   "source": [
    "def format_topics_sentences(ldamodel, corpus):\n",
    "    sent_topics_df = []\n",
    "    for i, row_list in enumerate(ldamodel[corpus]):\n",
    "        row = row_list[0] if ldamodel.per_word_topics else row_list\n",
    "        row = sorted(row, key=lambda x: (x[1]), reverse=True)\n",
    "        for j, (topic_num, prop_topic) in enumerate(row):\n",
    "            if j == 0:\n",
    "                wp = ldamodel.show_topic(topic_num)\n",
    "                topic_keywords = \", \".join([word for word, prop in wp])\n",
    "                sent_topics_df.append(\n",
    "                    [i, int(topic_num), round(prop_topic, 4) * 100, topic_keywords])\n",
    "            else:\n",
    "                break\n",
    "\n",
    "    return sent_topics_df"
   ]
  },
  {
   "cell_type": "code",
   "execution_count": 19,
   "id": "hydraulic-romance",
   "metadata": {},
   "outputs": [
    {
     "data": {
      "image/png": "[encoded data removed]",
      "text/plain": [
       "<Figure size 720x720 with 6 Axes>"
      ]
     },
     "metadata": {
      "needs_background": "light"
     },
     "output_type": "display_data"
    }
   ],
   "source": [
    "cols = [color for name, color in mcolors.TABLEAU_COLORS.items()]\n",
    "\n",
    "cloud = WordCloud(background_color='white',\n",
    "                  width=2500,\n",
    "                  height=1800,\n",
    "                  max_words=10,\n",
    "                  colormap='tab10',\n",
    "                  collocations=False,\n",
    "                  color_func=lambda *args, **kwargs: cols[i],\n",
    "                  prefer_horizontal=1.0)\n",
    "\n",
    "topics = lda_model.show_topics(formatted=False)\n",
    "\n",
    "fig, axes = plt.subplots(2, 3, figsize=(10, 10), sharex=True, sharey=True)\n",
    "\n",
    "for i, ax in enumerate(axes.flatten()):\n",
    "    fig.add_subplot(ax)\n",
    "    topic_words = dict(topics[i][1])\n",
    "    cloud.generate_from_frequencies(topic_words, max_font_size=300)\n",
    "    plt.gca().imshow(cloud)\n",
    "    plt.gca().set_title('Topic ' + str(i), fontdict=dict(size=16))\n",
    "    plt.gca().axis('off')\n",
    "\n",
    "plt.subplots_adjust(wspace=0, hspace=0)\n",
    "plt.axis('off')\n",
    "plt.margins(x=0, y=0)\n",
    "plt.tight_layout()\n",
    "plt.show()"
   ]
  },
  {
   "cell_type": "code",
   "execution_count": 20,
   "id": "identical-college",
   "metadata": {},
   "outputs": [
    {
     "data": {
      "image/png": "[encoded data removed]",
      "text/plain": [
       "<Figure size 432x288 with 1 Axes>"
      ]
     },
     "metadata": {
      "needs_background": "light"
     },
     "output_type": "display_data"
    }
   ],
   "source": [
    "# bar chart for labels\n",
    "cnt = Counter(y)\n",
    "yval = list(cnt.values())\n",
    "xval = list(cnt.keys())\n",
    "sns.barplot(x=['Fake', \"True\"], y=yval, palette=\"Blues_d\")\n",
    "plt.title(\"Label Counts\")\n",
    "plt.show()"
   ]
  },
  {
   "cell_type": "code",
   "execution_count": 21,
   "id": "vital-welcome",
   "metadata": {},
   "outputs": [],
   "source": [
    "# vector embedding\n",
    "MAX_FEATURES = 2000\n",
    "MAX_SENTENCE_LENGTH = 200"
   ]
  },
  {
   "cell_type": "code",
   "execution_count": 22,
   "id": "convinced-career",
   "metadata": {},
   "outputs": [],
   "source": [
    "# \n",
    "maxlen = 0\n",
    "word_freqs = Counter()\n",
    "num_recs = 0\n",
    "\n",
    "for line in x:\n",
    "    sentence = line.strip()\n",
    "    words = nltk.word_tokenize(sentence.lower())\n",
    "    if len(words) > maxlen:\n",
    "        maxlen = len(words)\n",
    "    for word in words:\n",
    "        word_freqs[word] += 1\n",
    "    num_recs += 1"
   ]
  },
  {
   "cell_type": "code",
   "execution_count": 23,
   "id": "regulated-corner",
   "metadata": {},
   "outputs": [],
   "source": [
    "# vector embedding initailsation\n",
    "vocab_size = min(MAX_FEATURES, len(word_freqs)) + 2\n",
    "word2index = {x[0]: i+2 for i, x in enumerate(word_freqs.most_common(MAX_FEATURES))}\n",
    "word2index[\"PAD\"] = 0\n",
    "word2index[\"UNK\"] = 1\n",
    "index2word = {v:k for k, v in word2index.items()}\n",
    "\n",
    "X = np.empty((num_recs, ), dtype=list)\n",
    "Y = np.zeros((num_recs, ))"
   ]
  },
  {
   "cell_type": "code",
   "execution_count": 24,
   "id": "brilliant-fleet",
   "metadata": {},
   "outputs": [],
   "source": [
    "# vectorisations\n",
    "i = 0\n",
    "for idx, line in enumerate(x):\n",
    "    sentence = line.strip()\n",
    "    words = nltk.word_tokenize(sentence.lower())\n",
    "    seqs = []\n",
    "    for word in words:\n",
    "        if word in word2index:\n",
    "            seqs.append(word2index[word])\n",
    "        else:\n",
    "            seqs.append(word2index[\"UNK\"])\n",
    "    X[i] = seqs\n",
    "    Y[i] = int(y[idx])\n",
    "    i += 1"
   ]
  },
  {
   "cell_type": "code",
   "execution_count": 26,
   "id": "activated-tolerance",
   "metadata": {},
   "outputs": [],
   "source": [
    "def pad_sequences(sequences, maxlen=None, padding='post', truncating='post', value=0):\n",
    "    if maxlen is None:\n",
    "        maxlen = max(len(seq) for seq in sequences)\n",
    "\n",
    "    padded_sequences = []\n",
    "    for seq in sequences:\n",
    "        if len(seq) > maxlen:\n",
    "            if truncating == 'pre':\n",
    "                padded_seq = seq[-maxlen:]\n",
    "            else:\n",
    "                padded_seq = seq[:maxlen]\n",
    "        else:\n",
    "            padded_seq = seq\n",
    "\n",
    "        if padding == 'post':\n",
    "            padded_seq += [value] * (maxlen - len(padded_seq))\n",
    "        else:\n",
    "            padded_seq = [value] * (maxlen - len(padded_seq)) + padded_seq\n",
    "\n",
    "        padded_sequences.append(padded_seq)\n",
    "\n",
    "    return padded_sequences"
   ]
  },
  {
   "cell_type": "code",
   "execution_count": 27,
   "id": "confirmed-finish",
   "metadata": {},
   "outputs": [],
   "source": [
    "# padding the sequences\n",
    "X = pad_sequences(X, maxlen=MAX_SENTENCE_LENGTH)"
   ]
  },
  {
   "cell_type": "code",
   "execution_count": 28,
   "id": "subject-material",
   "metadata": {},
   "outputs": [],
   "source": [
    "# splitting the dataset for train & test\n",
    "Xtrain, Xtest, ytrain, ytest = train_test_split(X, Y, test_size=0.2, random_state=42)"
   ]
  },
  {
   "cell_type": "code",
   "execution_count": 30,
   "id": "filled-waterproof",
   "metadata": {},
   "outputs": [],
   "source": [
    "# converting data into array\n",
    "Xtrain = np.array(Xtrain)\n",
    "Xtest = np.array(Xtest)"
   ]
  },
  {
   "cell_type": "code",
   "execution_count": 31,
   "id": "considerable-telescope",
   "metadata": {},
   "outputs": [
    {
     "name": "stdout",
     "output_type": "stream",
     "text": [
      "Training data shape (35918, 200)\n",
      "Testing data shape (8980, 200)\n"
     ]
    }
   ],
   "source": [
    "print(\"Training data shape {}\".format(Xtrain.shape))\n",
    "print(\"Testing data shape {}\".format(Xtest.shape))"
   ]
  },
  {
   "cell_type": "code",
   "execution_count": 32,
   "id": "bizarre-cross",
   "metadata": {},
   "outputs": [],
   "source": [
    "LR = LogisticRegression()\n",
    "RF = RandomForestClassifier(n_estimators=100)\n",
    "ADA = AdaBoostClassifier(n_estimators=100)\n",
    "KNN = KNeighborsClassifier()"
   ]
  },
  {
   "cell_type": "code",
   "execution_count": 33,
   "id": "duplicate-ferry",
   "metadata": {},
   "outputs": [
    {
     "data": {
      "text/plain": [
       "LogisticRegression()"
      ]
     },
     "execution_count": 33,
     "metadata": {},
     "output_type": "execute_result"
    }
   ],
   "source": [
    "LR.fit(Xtrain, ytrain)"
   ]
  },
  {
   "cell_type": "code",
   "execution_count": 34,
   "id": "acceptable-cable",
   "metadata": {},
   "outputs": [
    {
     "data": {
      "text/plain": [
       "RandomForestClassifier()"
      ]
     },
     "execution_count": 34,
     "metadata": {},
     "output_type": "execute_result"
    }
   ],
   "source": [
    "RF.fit(Xtrain, ytrain)"
   ]
  },
  {
   "cell_type": "code",
   "execution_count": 35,
   "id": "coral-system",
   "metadata": {},
   "outputs": [
    {
     "data": {
      "text/plain": [
       "AdaBoostClassifier(n_estimators=100)"
      ]
     },
     "execution_count": 35,
     "metadata": {},
     "output_type": "execute_result"
    }
   ],
   "source": [
    "ADA.fit(Xtrain, ytrain)"
   ]
  },
  {
   "cell_type": "code",
   "execution_count": 36,
   "id": "scientific-support",
   "metadata": {},
   "outputs": [
    {
     "data": {
      "text/plain": [
       "KNeighborsClassifier()"
      ]
     },
     "execution_count": 36,
     "metadata": {},
     "output_type": "execute_result"
    }
   ],
   "source": [
    "KNN.fit(Xtrain, ytrain)"
   ]
  },
  {
   "cell_type": "code",
   "execution_count": 39,
   "id": "clear-firewall",
   "metadata": {},
   "outputs": [
    {
     "name": "stdout",
     "output_type": "stream",
     "text": [
      "              precision    recall  f1-score   support\n",
      "\n",
      "         0.0       0.71      0.63      0.67      4764\n",
      "         1.0       0.63      0.71      0.67      4216\n",
      "\n",
      "    accuracy                           0.67      8980\n",
      "   macro avg       0.67      0.67      0.67      8980\n",
      "weighted avg       0.67      0.67      0.67      8980\n",
      "\n"
     ]
    },
    {
     "data": {
      "image/png": "[encoded data removed]",
      "text/plain": [
       "<Figure size 864x432 with 2 Axes>"
      ]
     },
     "metadata": {
      "needs_background": "light"
     },
     "output_type": "display_data"
    }
   ],
   "source": [
    "# classification report\n",
    "predictions = LR.predict(Xtest)\n",
    "print(classification_report(predictions, ytest))\n",
    "\n",
    "# confusion matrix\n",
    "plt.figure(figsize=[12, 6])\n",
    "sns.heatmap(confusion_matrix(predictions, ytest),\n",
    "            annot=True,\n",
    "            fmt=\"d\",\n",
    "            cmap=\"Blues\")\n",
    "plt.show()\n"
   ]
  },
  {
   "cell_type": "code",
   "execution_count": 40,
   "id": "touched-prize",
   "metadata": {},
   "outputs": [
    {
     "name": "stdout",
     "output_type": "stream",
     "text": [
      "              precision    recall  f1-score   support\n",
      "\n",
      "         0.0       0.92      0.95      0.93      4123\n",
      "         1.0       0.95      0.93      0.94      4857\n",
      "\n",
      "    accuracy                           0.94      8980\n",
      "   macro avg       0.94      0.94      0.94      8980\n",
      "weighted avg       0.94      0.94      0.94      8980\n",
      "\n"
     ]
    },
    {
     "data": {
      "image/png": "[encoded data removed]",
      "text/plain": [
       "<Figure size 864x432 with 2 Axes>"
      ]
     },
     "metadata": {
      "needs_background": "light"
     },
     "output_type": "display_data"
    }
   ],
   "source": [
    "# classification report\n",
    "predictions = RF.predict(Xtest)\n",
    "print(classification_report(predictions, ytest))\n",
    "\n",
    "# confusion matrix\n",
    "plt.figure(figsize=[12, 6])\n",
    "sns.heatmap(confusion_matrix(predictions, ytest),\n",
    "            annot=True,\n",
    "            fmt=\"d\",\n",
    "            cmap=\"Blues\")\n",
    "plt.show()\n"
   ]
  },
  {
   "cell_type": "code",
   "execution_count": 41,
   "id": "urban-aurora",
   "metadata": {},
   "outputs": [
    {
     "name": "stdout",
     "output_type": "stream",
     "text": [
      "              precision    recall  f1-score   support\n",
      "\n",
      "         0.0       0.97      1.00      0.98      4138\n",
      "         1.0       1.00      0.97      0.98      4842\n",
      "\n",
      "    accuracy                           0.98      8980\n",
      "   macro avg       0.98      0.98      0.98      8980\n",
      "weighted avg       0.98      0.98      0.98      8980\n",
      "\n"
     ]
    },
    {
     "data": {
      "image/png": "[encoded data removed]",
      "text/plain": [
       "<Figure size 864x432 with 2 Axes>"
      ]
     },
     "metadata": {
      "needs_background": "light"
     },
     "output_type": "display_data"
    }
   ],
   "source": [
    "# classification report\n",
    "predictions = ADA.predict(Xtest)\n",
    "print(classification_report(predictions, ytest))\n",
    "\n",
    "# confusion matrix\n",
    "plt.figure(figsize=[12, 6])\n",
    "sns.heatmap(confusion_matrix(predictions, ytest),\n",
    "            annot=True,\n",
    "            fmt=\"d\",\n",
    "            cmap=\"Blues\")\n",
    "plt.show()\n"
   ]
  },
  {
   "cell_type": "code",
   "execution_count": 42,
   "id": "forward-assault",
   "metadata": {},
   "outputs": [
    {
     "name": "stdout",
     "output_type": "stream",
     "text": [
      "              precision    recall  f1-score   support\n",
      "\n",
      "         0.0       0.57      0.55      0.56      4361\n",
      "         1.0       0.59      0.60      0.59      4619\n",
      "\n",
      "    accuracy                           0.58      8980\n",
      "   macro avg       0.58      0.58      0.58      8980\n",
      "weighted avg       0.58      0.58      0.58      8980\n",
      "\n"
     ]
    },
    {
     "data": {
      "image/png": "[encoded data removed]",
      "text/plain": [
       "<Figure size 864x432 with 2 Axes>"
      ]
     },
     "metadata": {
      "needs_background": "light"
     },
     "output_type": "display_data"
    }
   ],
   "source": [
    "# classification report\n",
    "predictions = KNN.predict(Xtest)\n",
    "print(classification_report(predictions, ytest))\n",
    "\n",
    "# confusion matrix\n",
    "plt.figure(figsize=[12, 6])\n",
    "sns.heatmap(confusion_matrix(predictions, ytest),\n",
    "            annot=True,\n",
    "            fmt=\"d\",\n",
    "            cmap=\"Blues\")\n",
    "plt.show()\n",
    "\n"
   ]
  },
  {
   "cell_type": "code",
   "execution_count": 50,
   "id": "recognized-pakistan",
   "metadata": {},
   "outputs": [
    {
     "name": "stdout",
     "output_type": "stream",
     "text": [
      "+-----------+--------+-------------------------------------------------------------------------------------------------------------------------------------------------------------------------------------------------------------------------------------------------------------------------------------------------------------------------------------------------------------------------------------------------------------------------------------------------------------------------------------------------------------------------------------------------------------------------------------------------------------------------------------------------------------------------------------------------------------------------------------------------------------------------------------------------------------------------------------------------------------------------------------------------------------------------------------------------------------------------------------------------------------------------------------------------------------------------------------------------------------------------------------------------------------------------------------------------------------------------------------------------------------------------------------------------------------------------------------------------------------------------------------------------------------------------------+\n",
      "| Predicted | Actual |                                                                                                                                                                                                                                                                                                                                                                                                                                                                                                                                                                                                                                                                                                            Sentence                                                                                                                                                                                                                                                                                                                                                                                                                                                                                                                                                                                                                                                                                                           |\n",
      "+-----------+--------+-------------------------------------------------------------------------------------------------------------------------------------------------------------------------------------------------------------------------------------------------------------------------------------------------------------------------------------------------------------------------------------------------------------------------------------------------------------------------------------------------------------------------------------------------------------------------------------------------------------------------------------------------------------------------------------------------------------------------------------------------------------------------------------------------------------------------------------------------------------------------------------------------------------------------------------------------------------------------------------------------------------------------------------------------------------------------------------------------------------------------------------------------------------------------------------------------------------------------------------------------------------------------------------------------------------------------------------------------------------------------------------------------------------------------------+\n",
      "|     0     |  0.0   | washington reuters former fbi director james comey accused president donald trump thursday firing try UNK agency investigation possible collusion trump campaign russia alleged efforts influence presidential election UNK UNK u congressional hearing years comey told lawmakers trump administration UNK UNK federal bureau investigation president dismissed may two hours testimony comey told senate intelligence committee believed trump UNK february drop fbi probe republican president former national security adviser michael flynn part UNK russia investigation comey would say whether thought president sought UNK justice added would special counsel robert mueller investigating russia allegations sort think say whether conversation president effort UNK took UNK thing UNK comey UNK sitting alone small table facing bank senators fired question question comey gave short UNK UNK UNK picture UNK president trust UNK stop fbi probe flynn trump critics say efforts president UNK fbi probe could amount UNK justice UNK potentially could lead trump UNK although fellow republicans control congress shown little UNK move speech supporters across town trump vowed fight UNK come UNK better UNK ever said comey make major UNK links trump UNK russia issue UNK president first months office UNK policy UNK UNK u healthcare system making tax cuts russia denied interference white house |\n",
      "|     1     |  1.0   |                                                                                                                     UNK UNK st century UNK elect donald trump continues UNK key positions white house process already controversial cabinet UNK week trump transition team named former UNK UNK partner UNK soros fund management employee turned hollywood UNK steve UNK us treasury secretary UNK pick UNK UNK long time billionaire UNK trump UNK UNK former head UNK inc UNK UNK business UNK UNK secretary trump cabinet UNK white house yet set UNK two UNK UNK UNK UNK financial UNK seen washington UNK many years big UNK photo UNK UNK UNK wire financial crisis UNK UNK april UNK UNK finance chairman trump presidential campaign UNK way another wall street UNK head white house early november sources close UNK UNK idea UNK scandal UNK UNK UNK UNK ceo UNK UNK also UNK us treasury secretary UNK long time UNK trump UNK named UNK UNK appears UNK trump anti wall street campaign rhetoric well UNK UNK UNK UNK towards UNK end presidential run fact UNK UNK UNK seems strike heart UNK prime UNK backed security UNK led UNK crisis economic UNK extremely high risk UNK UNK backed UNK UNK UNK UNK large amount UNK UNK UNK rate UNK interests rates would UNK certain number years                                                                                                                    |\n",
      "|     1     |  1.0   |                                                                                                                                                                                                          remember time sarah palin pretty much entire family got UNK UNK UNK company UNK UNK party well UNK right wing lady UNK UNK UNK people party fox business network UNK UNK UNK wrote facebook monday personally UNK something well something pretty UNK private UNK UNK UNK says UNK scott UNK two UNK UNK UNK according UNK one UNK moved toward UNK man UNK UNK UNK man allegedly told UNK UNK u little UNK UNK u know people UNK UNK UNK unclear said UNK UNK UNK says told man UNK UNK UNK crisis UNK unclear UNK UNK admitted UNK guy simply moving UNK allegedly says next far UNK part two even UNK inside UNK see fight two UNK UNK UNK UNK came trump adviser UNK conway began UNK mean UNK one UNK whole thing UNK UNK one hurt UNK maybe UNK UNK know trump UNK UNK UNK none UNK get UNK conway lost control people could keep UNK major political event UNK UNK big win decided join UNK UNK living hell one hell team trump building UNK read full post featured image via getty images mark UNK                                                                                                                                                                                                          |\n",
      "|     1     |  1.0   |                                                                                                                               UNK several government UNK may UNK article UNK UNK UNK UNK UNK UNK UNK government property private UNK owned UNK donald trump UNK article UNK may UNK piece written UNK serious UNK UNK UNK agency one UNK UNK place trump family UNK UNK places positive UNK trump UNK UNK UNK right start UNK UNK obvious like trump UNK calling UNK UNK UNK white house term made trump UNK numerous UNK florida nobody agreed UNK UNK UNK UNK white house given lack security way UNK trump access calling white house UNK illegal UNK trump UNK UNK UNK UNK UNK UNK president trump florida estate become well known president UNK UNK work host foreign leaders first meeting trump president xi UNK china take place april UNK UNK UNK heart florida UNK UNK community base UNK UNK trump UNK dozen times UNK course UNK florida account much work least one example trump morning UNK meetings turned trump attempt UNK UNK UNK UNK room two friends someone posted UNK trump UNK club UNK appears watching UNK UNK people pic twitter com UNK steve UNK UNK march article gets UNK UNK house adding events UNK trump opened estate UNK paying members public UNK UNK club                                                                                                                              |\n",
      "|     1     |  1.0   |                                                                                                                                    james UNK UNK new media since UNK UNK UNK UNK UNK UNK left time time latest video UNK liberal UNK UNK violent ways UNK inauguration president trump seems UNK UNK war press anyone left UNK lies complete UNK anything president trump says happening cnn msnbc abc nbc cbs time UNK real fake news thank james UNK UNK first release joe UNK cnn news UNK UNK wire telling one UNK UNK reporters climate change UNK science debate mean little UNK joe UNK news UNK UNK cnn UNK clear UNK favor UNK cnn claim UNK UNK pic twitter com UNK james UNK UNK february second release long list UNK cnn UNK UNK trump correct UNK polls UNK knew president trump correct told americans believe polls UNK UNK huge hillary win know story UNK trump UNK hillary UNK UNK states polls like cnn told us chance winning listen cnn try reason UNK UNK reporter UNK UNK polls new information UNK could game UNK public UNK questioned UNK choose use new data UNK one polls cnn executive UNK UNK UNK responded agree think UNK use UNK information new information shows something UNK something reporting UNK bit found cnn executive UNK UNK talks using UNK                                                                                                                                    |\n",
      "+-----------+--------+-------------------------------------------------------------------------------------------------------------------------------------------------------------------------------------------------------------------------------------------------------------------------------------------------------------------------------------------------------------------------------------------------------------------------------------------------------------------------------------------------------------------------------------------------------------------------------------------------------------------------------------------------------------------------------------------------------------------------------------------------------------------------------------------------------------------------------------------------------------------------------------------------------------------------------------------------------------------------------------------------------------------------------------------------------------------------------------------------------------------------------------------------------------------------------------------------------------------------------------------------------------------------------------------------------------------------------------------------------------------------------------------------------------------------------+\n"
     ]
    }
   ],
   "source": [
    "from prettytable import PrettyTable\n",
    "  \n",
    "myTable = PrettyTable([\"Predicted\", \"Actual\", \"Sentence\"])\n",
    "for i in range(5):\n",
    "    idx = np.random.randint(len(Xtest))\n",
    "    xtest = Xtest[idx]\n",
    "    ylabel = ytest[idx]\n",
    "    ypred = ADA.predict([xtest])[0]\n",
    "    sent = \" \".join([index2word[x] for x in xtest.tolist() if x != 0])\n",
    "    myTable.add_row([int(ypred), ylabel, sent])\n",
    "print(myTable)"
   ]
  },
  {
   "cell_type": "code",
   "execution_count": null,
   "id": "above-contractor",
   "metadata": {},
   "outputs": [],
   "source": []
  }
 ],
 "metadata": {
  "kernelspec": {
   "display_name": "Python 3",
   "language": "python",
   "name": "python3"
  },
  "language_info": {
   "codemirror_mode": {
    "name": "ipython",
    "version": 3
   },
   "file_extension": ".py",
   "mimetype": "text/x-python",
   "name": "python",
   "nbconvert_exporter": "python",
   "pygments_lexer": "ipython3",
   "version": "3.6.8"
  },
  "nbTranslate": {
   "displayLangs": [
    "*"
   ],
   "hotkey": "alt-t",
   "langInMainMenu": true,
   "sourceLang": "en",
   "targetLang": "fr",
   "useGoogleTranslate": true
  },
  "toc": {
   "base_numbering": 1,
   "nav_menu": {},
   "number_sections": true,
   "sideBar": true,
   "skip_h1_title": false,
   "title_cell": "Table of Contents",
   "title_sidebar": "Contents",
   "toc_cell": false,
   "toc_position": {},
   "toc_section_display": true,
   "toc_window_display": false
  },
  "varInspector": {
   "cols": {
    "lenName": 16,
    "lenType": 16,
    "lenVar": 40
   },
   "kernels_config": {
    "python": {
     "delete_cmd_postfix": "",
     "delete_cmd_prefix": "del ",
     "library": "var_list.py",
     "varRefreshCmd": "print(var_dic_list())"
    },
    "r": {
     "delete_cmd_postfix": ") ",
     "delete_cmd_prefix": "rm(",
     "library": "var_list.r",
     "varRefreshCmd": "cat(var_dic_list()) "
    }
   },
   "types_to_exclude": [
    "module",
    "function",
    "builtin_function_or_method",
    "instance",
    "_Feature"
   ],
   "window_display": false
  }
 },
 "nbformat": 4,
 "nbformat_minor": 5
}
